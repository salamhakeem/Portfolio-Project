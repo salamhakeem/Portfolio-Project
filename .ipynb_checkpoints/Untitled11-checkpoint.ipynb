{
 "cells": [
  {
   "cell_type": "code",
   "execution_count": 4,
   "metadata": {},
   "outputs": [
    {
     "ename": "FileNotFoundError",
     "evalue": "[Errno 2] No such file or directory: 'Payment.reciept line.txt'",
     "output_type": "error",
     "traceback": [
      "\u001b[1;31m---------------------------------------------------------------------------\u001b[0m",
      "\u001b[1;31mFileNotFoundError\u001b[0m                         Traceback (most recent call last)",
      "\u001b[1;32m<ipython-input-4-44f6345d97ba>\u001b[0m in \u001b[0;36m<module>\u001b[1;34m\u001b[0m\n\u001b[1;32m----> 1\u001b[1;33m \u001b[0mf\u001b[0m \u001b[1;33m=\u001b[0m \u001b[0mopen\u001b[0m\u001b[1;33m(\u001b[0m\u001b[1;34m\"Payment.reciept line.txt\"\u001b[0m\u001b[1;33m)\u001b[0m\u001b[1;33m\u001b[0m\u001b[1;33m\u001b[0m\u001b[0m\n\u001b[0m",
      "\u001b[1;31mFileNotFoundError\u001b[0m: [Errno 2] No such file or directory: 'Payment.reciept line.txt'"
     ]
    }
   ],
   "source": []
  },
  {
   "cell_type": "code",
   "execution_count": 6,
   "metadata": {},
   "outputs": [
    {
     "ename": "FileNotFoundError",
     "evalue": "[Errno 2] No such file or directory: 'Payment.reciept line.txt'",
     "output_type": "error",
     "traceback": [
      "\u001b[1;31m---------------------------------------------------------------------------\u001b[0m",
      "\u001b[1;31mFileNotFoundError\u001b[0m                         Traceback (most recent call last)",
      "\u001b[1;32m<ipython-input-6-44f6345d97ba>\u001b[0m in \u001b[0;36m<module>\u001b[1;34m\u001b[0m\n\u001b[1;32m----> 1\u001b[1;33m \u001b[0mf\u001b[0m \u001b[1;33m=\u001b[0m \u001b[0mopen\u001b[0m\u001b[1;33m(\u001b[0m\u001b[1;34m\"Payment.reciept line.txt\"\u001b[0m\u001b[1;33m)\u001b[0m\u001b[1;33m\u001b[0m\u001b[1;33m\u001b[0m\u001b[0m\n\u001b[0m",
      "\u001b[1;31mFileNotFoundError\u001b[0m: [Errno 2] No such file or directory: 'Payment.reciept line.txt'"
     ]
    }
   ],
   "source": [
    "f = open(\"Payment.reciept line.txt\")"
   ]
  },
  {
   "cell_type": "code",
   "execution_count": 12,
   "metadata": {},
   "outputs": [
    {
     "ename": "SyntaxError",
     "evalue": "invalid syntax (<ipython-input-12-5c2d4fce688d>, line 3)",
     "output_type": "error",
     "traceback": [
      "\u001b[1;36m  File \u001b[1;32m\"<ipython-input-12-5c2d4fce688d>\"\u001b[1;36m, line \u001b[1;32m3\u001b[0m\n\u001b[1;33m    inf = open(fname, \"r\"))\u001b[0m\n\u001b[1;37m      ^\u001b[0m\n\u001b[1;31mSyntaxError\u001b[0m\u001b[1;31m:\u001b[0m invalid syntax\n"
     ]
    }
   ],
   "source": [
    "f = open(# Read the file name from the user and open the file\n",
    "fname = input(\"Enter the file name: \")\n",
    "inf = open(fname, \"r\"))"
   ]
  },
  {
   "cell_type": "code",
   "execution_count": null,
   "metadata": {},
   "outputs": [],
   "source": [
    "# Read the file name from the user and open the file\n",
    "fname = input(\"Enter the file name: \")\n",
    "inf = open(fname, \"r\")\n",
    "#print(inf.read())\n",
    "\n",
    "\n"
   ]
  },
  {
   "cell_type": "code",
   "execution_count": null,
   "metadata": {},
   "outputs": [],
   "source": [
    "# Read the file name from the user and open the file\n",
    "fname = input(\"Enter the file name: \")\n",
    "inf = open(fname, \"r\")"
   ]
  },
  {
   "cell_type": "code",
   "execution_count": 7,
   "metadata": {},
   "outputs": [
    {
     "name": "stdout",
     "output_type": "stream",
     "text": [
      "    OrderDate   Region       Rep     Item  Units  Unit Cost    Total\n",
      "0  2018-01-06     East     Jones   Pencil     95       1.99   189.05\n",
      "1  2018-01-23  Central    Kivell   Binder     50      19.99   999.50\n",
      "2  2018-02-09  Central   Jardine   Pencil     36       4.99   179.64\n",
      "3  2018-02-26  Central      Gill      Pen     27      19.99   539.73\n",
      "4  2018-03-15     West   Sorvino   Pencil     56       2.99   167.44\n",
      "5  2018-04-01     East     Jones   Binder     60       4.99   299.40\n",
      "6  2018-04-18  Central   Andrews   Pencil     75       1.99   149.25\n",
      "7  2018-05-05  Central   Jardine   Pencil     90       4.99   449.10\n",
      "8  2018-05-22     West  Thompson   Pencil     32       1.99    63.68\n",
      "9  2018-06-08     East     Jones   Binder     60       8.99   539.40\n",
      "10 2018-06-25  Central    Morgan   Pencil     90       4.99   449.10\n",
      "11 2018-07-12     East    Howard   Binder     29       1.99    57.71\n",
      "12 2018-07-29     East    Parent   Binder     81      19.99  1619.19\n",
      "13 2018-08-15     East     Jones   Pencil     35       4.99   174.65\n",
      "14 2018-09-01  Central     Smith     Desk      2     125.00   250.00\n",
      "15 2018-09-18     East     Jones  Pen Set     16      15.99   255.84\n",
      "16 2018-10-05  Central    Morgan   Binder     28       8.99   251.72\n",
      "17 2018-10-22     East     Jones      Pen     64       8.99   575.36\n",
      "18 2018-11-08     East    Parent      Pen     15      19.99   299.85\n",
      "19 2018-11-25  Central    Kivell  Pen Set     96       4.99   479.04\n",
      "20 2018-12-12  Central     Smith   Pencil     67       1.29    86.43\n",
      "21 2018-12-29     East    Parent  Pen Set     74      15.99  1183.26\n",
      "22 2019-01-15  Central      Gill   Binder     46       8.99   413.54\n",
      "23 2019-02-01  Central     Smith   Binder     87      15.00  1305.00\n",
      "24 2019-02-18     East     Jones   Binder      4       4.99    19.96\n",
      "25 2019-03-07     West   Sorvino   Binder      7      19.99   139.93\n",
      "26 2019-03-24  Central   Jardine  Pen Set     50       4.99   249.50\n",
      "27 2019-04-10  Central   Andrews   Pencil     66       1.99   131.34\n",
      "28 2019-04-27     East    Howard      Pen     96       4.99   479.04\n",
      "29 2019-05-14  Central      Gill   Pencil     53       1.29    68.37\n",
      "30 2019-05-31  Central      Gill   Binder     80       8.99   719.20\n",
      "31 2019-06-17  Central    Kivell     Desk      5     125.00   625.00\n",
      "32 2019-07-04     East     Jones  Pen Set     62       4.99   309.38\n",
      "33 2019-07-21  Central    Morgan  Pen Set     55      12.49   686.95\n",
      "34 2019-08-07  Central    Kivell  Pen Set     42      23.95  1005.90\n",
      "35 2019-08-24     West   Sorvino     Desk      3     275.00   825.00\n",
      "36 2019-09-10  Central      Gill   Pencil      7       1.29     9.03\n",
      "37 2019-09-27     West   Sorvino      Pen     76       1.99   151.24\n",
      "38 2019-10-14     West  Thompson   Binder     57      19.99  1139.43\n",
      "39 2019-10-31  Central   Andrews   Pencil     14       1.29    18.06\n",
      "40 2019-11-17  Central   Jardine   Binder     11       4.99    54.89\n",
      "41 2019-12-04  Central   Jardine   Binder     94      19.99  1879.06\n",
      "42 2019-12-21  Central   Andrews   Binder     28       4.99   139.72\n"
     ]
    },
    {
     "data": {
      "text/plain": [
       "<matplotlib.axes._subplots.AxesSubplot at 0x26b213d7108>"
      ]
     },
     "execution_count": 7,
     "metadata": {},
     "output_type": "execute_result"
    },
    {
     "data": {
      "image/png": "[encoded data removed]",
      "text/plain": [
       "<Figure size 432x288 with 1 Axes>"
      ]
     },
     "metadata": {
      "needs_background": "light"
     },
     "output_type": "display_data"
    }
   ],
   "source": [
    "import matplotlib.pyplot as plt\n",
    "import pandas as pd\n",
    "\n",
    "df = pd.read_excel(r'C:\\Users\\SALAM HAKEEM\\Desktop\\excelforwork\\SampleData.xlsx')\n",
    "data = pd.DataFrame(df,columns=['Units','Unit Cost'])\n",
    "print(df)\n",
    "data.plot(kind ='bar',x='Units',y='Unit Cost')\n",
    "                                \n",
    "#plt.show()\n",
    "\n",
    "                                \n",
    "#data_dict = df.to_dict()\n",
    "\n"
   ]
  },
  {
   "cell_type": "code",
   "execution_count": null,
   "metadata": {},
   "outputs": [],
   "source": []
  },
  {
   "cell_type": "code",
   "execution_count": null,
   "metadata": {},
   "outputs": [],
   "source": []
  },
  {
   "cell_type": "code",
   "execution_count": null,
   "metadata": {},
   "outputs": [],
   "source": []
  },
  {
   "cell_type": "code",
   "execution_count": null,
   "metadata": {},
   "outputs": [],
   "source": []
  }
 ],
 "metadata": {
  "kernelspec": {
   "display_name": "Python 3",
   "language": "python",
   "name": "python3"
  },
  "language_info": {
   "codemirror_mode": {
    "name": "ipython",
    "version": 3
   },
   "file_extension": ".py",
   "mimetype": "text/x-python",
   "name": "python",
   "nbconvert_exporter": "python",
   "pygments_lexer": "ipython3",
   "version": "3.7.4"
  }
 },
 "nbformat": 4,
 "nbformat_minor": 2
}
